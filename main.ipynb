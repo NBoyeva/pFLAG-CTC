{
 "cells": [
  {
   "cell_type": "code",
   "execution_count": 123,
   "id": "b88f8c9e-bd12-448c-b76b-001149ca9346",
   "metadata": {},
   "outputs": [],
   "source": [
    "from Bio import SeqIO\n",
    "from Bio.Seq import Seq\n",
    "from Bio.Restriction import *\n",
    "from primers import create\n",
    "from Bio.SeqUtils.ProtParam import ProteinAnalysis"
   ]
  },
  {
   "cell_type": "code",
   "execution_count": 4,
   "id": "b974f60f-b680-45a5-9a90-004eb015ec3c",
   "metadata": {},
   "outputs": [],
   "source": [
    "seq = Seq(\"CATCATAACGGTTCTGGCAAATATTCTGAAATGAGCTGTTGACAATTAATCATCGGCTCGTATAATGTGTGGAATTGTGAGCGGATAACAATTTCACACAGGAGATATCATATGAAGCTTCTCGAGAATTCCCGGGTACCAGATCTGTCGACTACAAGGACGATGACGACAAGTGAAGATCGATCTCTCGATCGAGTGAGAGAAGATTTTCAGCCTGATACAGATTAAATCAGAACGCAGAAGCGGTCTGATAAAACAGAATTTGCCTGGCGGCAGTAGCGCGGTGGTCCCACCTGACCCCATGCCGAACTCAGAAGTGAAACGCCGTAGCGCCGATGGTAGTGTGGGGTCTCCCCATGCGAGAGTAGGGAACTGCCAGGCATCAAATAAAACGAAAGGCTCAGTCGAAAGACTGGGCCTTTCGTTTTATCTGTTGTTTGTCGGTGAACGCTCTCCTGAGTAGGACAAATCCGCCGGGAGCGGATTTGAACGTTGCGAAGCAACGGCCCGGAGGGTGGCGGGCAGGACGCCCGCCATAAACTGCCAGGCATCAAATTAAGCAGAAGGCCATCCTGACGGATGGCCTTTTTGCGTTTCTACAAACTCTTTTGTTTATTTTTCTAAATACATTCAAATATGTATCCGCTCATGAGACAATAACCCTGATAAATGCTTCAATAATATTGAAAAAGGAAGAGTATGAGTATTCAACATTTCCGTGTCGCCCTTATTCCCTTTTTTGCGGCATTTTGCCTTCCTGTTTTTGCTCACCCAGAAACGCTGGTGAAAGTAAAAGATGCTGAAGATCAGTTGGGTGCACGAGTGGGTTACATCGAACTGGATCTCAACAGCGGTAAGATCCTTGAGAGTTTTCGCCCCGAAGAACGTTTTCCAATGATGAGCACTTTTAAAGTTCTGCTATGTGGCGCGGTATTATCCCGTGTTGACGCCGGGCAAGAGCAACTCGGTCGCCGCATACACTATTCTCAGAATGACTTGGTTGAGTACTCACCAGTCACAGAAAAGCATCTTACGGATGGCATGACAGTAAGAGAATTATGCAGTGCTGCCATAACCATGAGTGATAACACTGCGGCCAACTTACTTCTGACAACGATCGGAGGACCGAAGGAGCTAACCGCTTTTTTGCACAACATGGGGGATCATGTAACTCGCCTTGATCGTTGGGAACCGGAGCTGAATGAAGCCATACCAAACGACGAGCGTGACACCACGATGCCTGTAGCAATGGCAACAACGTTGCGCAAACTATTAACTGGCGAACTACTTACTCTAGCTTCCCGGCAACAATTAATAGACTGGATGGAGGCGGATAAAGTTGCAGGACCACTTCTGCGCTCGGCCCTTCCGGCTGGCTGGTTTATTGCTGATAAATCTGGAGCCGGTGAGCGTGGGTCTCGCGGTATCATTGCAGCACTGGGGCCAGATGGTAAGCCCTCCCGTATCGTAGTTATCTACACGACGGGGAGTCAGGCAACTATGGATGAACGAAATAGACAGATCGCTGAGATAGGTGCCTCACTGATTAAGCATTGGTAACTGTCAGACCAAGTTTACTCATATATACTTTAGATTGATTTAAAACTTCATTTTTAATTTAAAAGGATCTAGGTGAAGATCCTTTTTGATAATCTCATGACCAAAATCCCTTAACGTGAGTTTTCGTTCCACTGAGCGTCAGACCCCGTAGAAAAGATCAAAGGATCTTCTTGAGATCCTTTTTTTCTGCGCGTAATCTGCTGCTTGCAAACAAAAAAACCACCGCTACCAGCGGTGGTTTGTTTGCCGGATCAAGAGCTACCAACTCTTTTTCCGAAGGTAACTGGCTTCAGCAGAGCGCAGATACCAAATACTGTCCTTCTAGTGTAGCCGTAGTTAGGCCACCACTTCAAGAACTCTGTAGCACCGCCTACATACCTCGCTCTGCTAATCCTGTTACCAGTGGCTGCTGCCAGTGGCGATAAGTCGTGTCTTACCGGGTTGGACTCAAGACGATAGTTACCGGATAAGGCGCAGCGGTCGGGCTGAACGGGGGGTTCGTGCACACAGCCCAGCTTGGAGCGAACGACCTACACCGAACTGAGATACCTACAGCGTGAGCTATGAGAAAGCGCCACGCTTCCCGAAGGGAGAAAGGCGGACAGGTATCCGGTAAGCGGCAGGGTCGGAACAGGAGAGCGCACGAGGGAGCTTCCAGGGGGAAACGCCTGGTATCTTTATAGTCCTGTCGGGTTTCGCCACCTCTGACTTGAGCGTCGATTTTTGTGATGCTCGTCAGGGGGGCGGAGCCTATGGAAAAACGCCAGCAACGCGGCCTTTTTACGGTTCCTGGCCTTTTGCTGGCCTTTTGCTCACATGTTCTTTCCTGCGTTATCCCCTGATTCTGTGGATAACCGTATTACCGCCTTTGAGTGAGCTGATACCGCTCGCCGCAGCCGAACGACCGAGCGCAGCGAGTCAGTGAGCGAGGAAGCGGAAGAGCGCCTGATGCGGTATTTTCTCCTTACGCATCTGTGCGGTATTTCACACCGCATACAGATCCTGACGCGCCCTGTAGCGGCGCATTAAGCGCGGCGGGTGTGGTGGTTACGCGCAGCGTGACCGCTACACTTGCCAGCGCCCTAGCGCCCGCTCCTTTCGCTTTCTTCCCTTCCTTTCTCGCCACGTTCGCCGGCTTTCCCCGTCAAGCTCTAAATCGGGGGCTCCCTTTAGGGTTCCGATTTAGTGCTTTACGGCACCTCGACCCCAAAAAACTTGATTAGGGTGATGGTTCACGTAGTGGGCCATCGCCCTGATAGACGGTTTTTCGCCCTTTGACGTTGGAGTCCACGTTCTTTAATAGTGGACTCTTGTTCCAAACTGGAACAACACTCAACCCTATCTCGGTCTATTCTTTTGATTTATAAGGGATTTTGCCGATTTCGGCCTATTGGTTAAAAAATGAGCTGATTTAACAAAAATTTAACGCGAATTTTAACAAAATATTAACGTTTACAGGATCTGTATGGTGCACTCTCAGTACAATCTGCTCTGATGCCGCATAGTTAAGCCAGTATACACTCCGCTATCGCTACGTGACTGCCTCGACCTGCAGCAATTCCAACGCCATCAAAAATAATTCGCGTCTGGCCTTCCTGTAGCCAGCTTTCATCAACATTAAATGTGAGCGAGTAACAACCCGTCGGATTCTCCGTGGGAACAAACGGCGGATTGACCGTAATGGGATAGGTCACGTTGGTGTAGATGGGCGCATCGTAACCGTGCATCTGCCAGTTTGAGGGGACGACGACAGTATCGGCCTCAGGAAGATCGCACTCCAGCCAGCTTTCCGGCACCGCTTCTGGTGCCGGAAACCAGGCAAAGCGCCATTCGCCATTCAGGCTGCGCAACTGTTGGGAAGGGCGATCGGTGCGGGCCTCTTCGCTATTACGCCAGCTGGCGAAAGGGGGATGTGCTGCAAGGCGATTAAGTTGGGTAACGCCAGGGTTTTCCCAGTCACGACGTTGTAAAACGACGGCCAGTGAATCCGTAATCATGGTCATAGCTGTTTCCTGTGTGAAATTGTTATCCGCTCACAATTCCACACAACATACGAGCCGGAAGCATAAAGTGTAAAGCCTGGGGTGCCTAATGAGTGAGCTAACTTACATTAATTGCGTTGCGCTCACTGCCCGCTTTCCAGTCGGGAAACCTGTCGTGCCAGCTGCATTAATGAATCGGCCAACGCGCGGGGAGAGGCGGTTTGCGTATTGGGCGCCAGGGTGGTTTTTCTTTTCACCAGTGAGACGGGCAACAGCTGATTGCCCTTCACCGCCTGGCCCTGAGAGAGTTGCAGCAAGCGGTCCACGCTGGTTTGCCCCAGCAGGCGAAAATCCTGTTTGATGGTGGTTAACGGCGGGATATAACATGAGCTGTCTTCGGTATCGTCGTATCCCACTACCGAGATATCCGCACCAACGCGCAGCCCGGACTCGGTAATGGCGCGCATTGCGCCCAGCGCCATCTGATCGTTGGCAACCAGCATCGCAGTGGGAACGATGCCCTCATTCAGCATTTGCATGGTTTGTTGAAAACCGGACATGGCACTCCAGTCGCCTTCCCGTTCCGCTATCGGCTGAATTTGATTGCGAGTGAGATATTTATGCCAGCCAGCCAGACGCAGACGCGCCGAGACAGAACTTAATGGGCCCGCTAACAGCGCGATTTGCTGGTGACCCAATGCGACCAGATGCTCCACGCCCAGTCGCGTACCGTCTTCATGGGAGAAAATAATACTGTTGATGGGTGTCTGGTCAGAGACATCAAGAAATAACGCCGGAACATTAGTGCAGGCAGCTTCCACAGCAATGGCATCCTGGTCATCCAGCGGATAGTTAATGATCAGCCCACTGACGCGTTGCGCGAGAAGATTGTGCACCGCCGCTTTACAGGCTTCGACGCCGCTTCGTTCTACCATCGACACCACCACGCTGGCACCCAGTTGATCGGCGCGAGATTTAATCGCCGCGACAATTTGCGACGGCGCGTGCAGGGCCAGACTGGAGGTGGCAACGCCAATCAGCAACGACTGTTTGCCCGCCAGTTGTTGTGCCACGCGGTTGGGAATGTAATTCAGCTCCGCCATCGCCGCTTCCACTTTTTCCCGCGTTTTCGCAGAAACGTGGCTGGCCTGGTTCACCACGCGGGAAACGGTCTGATAAGAGACACCGGCATACTCTGCGACATCGTATAACGTTACTGGTTTCACATTCACCACCCTGAATTGACTCTCTTCCGGGCGCTATCATGCCATACCGCGAAAGGTTTTGCACCATTCCATGGTGTCGGAATTGCTGCAGGTCGAGGGGGTCATGGCTGCGCCCCGACACCCGCCAACACCCGCTGACGCGCCCTGACGGGCTTGTCTGCTCCCGGCATCCGCTTACAGACAAGCTGTGACCGTCTCCGGGAGCTGCATGTGTCAGAGGTTTTCACCGTCATCACCGAAACGCGCGAGGCAGGATGGCGCCCAACAGTCCCCCGGCCACGGGGCCTGCCACCATACCCACGCCGAAACAAGCGCTCATGAGCCCGAAGTGGCGAGCCCGATCTTCCCCATCGGTGATGTCGGCGATATAGGCGCCAGCAACCGCACCTGTGGCGCCGGTGATGCCGGCCACGATGCGTCCGGCGTAGAGGATCCGGGCTTATCGACTGCACGGTGCACCAATGCTTCTGGCGTCAGGCAGCCATCGGAAGCTGTGGTATGGCTGTGCAGGTCGTAAATCACTGCATAATTCGTGTCGCTCAAGGCGCACTCCCGTTCTGGATAATGTTTTTTGCGCCGA\")"
   ]
  },
  {
   "cell_type": "code",
   "execution_count": 5,
   "id": "a6995126-8859-4413-8d72-e04b3db1652c",
   "metadata": {},
   "outputs": [
    {
     "data": {
      "text/plain": [
       "1845"
      ]
     },
     "execution_count": 5,
     "metadata": {},
     "output_type": "execute_result"
    }
   ],
   "source": [
    "insertion = Seq(\"CTGCAGAAGGAAAAGGAAATCAGCGAGGACGAAGAGCGCCGCGCCGGCGACGACGTGCAGAAGCTGACCGACAAGTTCATCGGTGAGATCGAGAAGGCACTGGAAGCCAAAGAAGCGGACCTCATGGCTGTCTGAGGCCGGGCTGACGTCATGGAAAAGACCCGGAAGGATGTGTGCGTGCCACGCCACGTGCCATTATCATGGACGGTAACAATCGCTGGGCGAAGAAGCGTCTTCTGCCCGGCGTCGCGCCACAAGGCCGGTGTCGATGCCGTCAGGGCGGTGATCGAGGTCTGCGCCGAGGCAGGGGTCGAGGTCCTCACCCTGTTCGCGTTCTCCAGCGAGAACTGGCAGCGTCCGGCGGACGAAGTCAGCGCGCTGATGGAGCTGTTTCTCGTGGCCCTGCGCCGCGAGGTGCGCAAGCTCGACGAGAACGGCATCCGCCTGCGCATCATCGGCGATCGCACGCGTTTCCATCCGGAGTTGCAGGCGGCCATGCGCGAAGCGGAAGCCGCCACTGCCGGCAATACCCGTTTCCTCCTCCAGGTCGCCGCCAACTACGGCGGCCAGTGGGACATCGTCCAGGCCGCACAGCGCCTGGCGCGCGAGGTCCAGGGCGGGCACCTGGCGGCGGACGATATCTCCGCCGAGCTGCTCCAGGGCTGCCTGGTGACCGGCGACCAGCCGCTGCCCGACCTGTGCATCCGCACCGGCGGCGAGCATCGCATCAGCAATTTCCTTCTCTGGCAGCTGGCCTACGCCGAGCTGTATTTCTCCGACCTGTTCTGGCCCGACTTCAAGCACGCGCGATGCGGGCTGCCCTGGCGGATTTCTCCAAGCGCCAGCGCCGCTTCGGCAAGACCAGCGAGCAAGTCGAGGCCGAGGCCCGTCCGTCATGCTGAAACAACGGATCATCACGGCGCTGGTGCTTTTGCCCATCGCGCTGGGTGGTTTTTTCCTTCTCGAAGGGGCGTTCTTCGCCCTGTTCATCGGCGCGGTGGTGAGCCTGGGGGCCTGGGAATGGGCGCGCCTGGCCGGCTATGAACAACAGTTCGGCCGCGTTGCCTACGCGGCGACGGTCGCCGTGCTGATGGTCGCTCTCTACCATCTGCCGCAGCTTGCCGGAGCCGTGCTGCTGCTGGCGCTGGTCTGGTGGACGCTGGCCACCGTGCTGGTGCTCACCTACCCGGAAAGCGTCGGCTACTGGGGCGGCCGCTGGCGCCGCCTGGGCATGGGCCTGCTGATCCTGTTGCCGGCCTGGCAGGGGCTGGTCCTGCTCAAGCAAGTGGCCGCTGCCAATGGCCTGATCATCGCCGTGATGGTGCTGGTCTGGGGCGCGGATATCGGCGCCTACTTCTCCGGCAAGGCCTTCGGCAAGCGCAAGCTGGCGCCGCGGGTCAGCCCCGGCAAGAGCTGGGAAGGCGTTTACGGCGGCCTGGCGGCCAGCCTGGCGATCACCCTGGCGGTCGGCCTCTACCGCGGCTGGTCCCTCGGCGCGCTGCTCCTGGCCCTGCTCGGTGCGGCGCTGGTGGTGTTCGTCTCGATCGTCGGCGACCTCACCGAAAGCATGTTCAAGCGCCAGTCCGGAATCAAGGACAGCAGCAACCTGCTGCCCGGCCACGGTGGCGTGCTGGATCGCATCGACAGCCTGACGGCAGCCATCCCGGTGTTCGCGGCCCTGCTCTGGGCCGCCGGCTGGGGTGCGCCATGAGTCGACCGCAGCGGATCAGCGTGCTCGGCGCGACCGGCTCGATCGGCCTGAGCACCCTGGACGTCGTCCAGCGTCATCCCGATCGTTACGAAGCCTTCGCCCTGACTGGCTTCAGCCGCCTGGCCGAACTCGAG\")\n",
    "len(insertion)"
   ]
  },
  {
   "cell_type": "code",
   "execution_count": 6,
   "id": "15dcc074-d8a6-40b8-954d-76ace5cf7ff0",
   "metadata": {},
   "outputs": [
    {
     "data": {
      "text/plain": [
       "90"
      ]
     },
     "execution_count": 6,
     "metadata": {},
     "output_type": "execute_result"
    }
   ],
   "source": [
    "insertion = Seq(\"AATGAGACAATAGCACACACAGCTAGGTCAGCATACGAAAGGAAATCAGCGAGGACGAAGAGCGCCGCGCCGGCGACGACGTGCAGTGAC\")\n",
    "len(insertion)"
   ]
  },
  {
   "cell_type": "markdown",
   "id": "109de370-5d66-4ff1-8998-77996a36c762",
   "metadata": {},
   "source": [
    "The FLAG sequence:"
   ]
  },
  {
   "cell_type": "code",
   "execution_count": 7,
   "id": "42f67ba7-b9ed-42e8-b48b-7860e02cf19f",
   "metadata": {},
   "outputs": [
    {
     "name": "stdout",
     "output_type": "stream",
     "text": [
      "GAC TAC AAG GAC GAT GAC GAC AAG\n"
     ]
    }
   ],
   "source": [
    "def split_into_codons(seq):\n",
    "    # Split the sequence into groups of 3 nucleotides (codons)\n",
    "    codons = [str(seq[i:i+3]) for i in range(0, len(seq), 3)]\n",
    "    print(\" \".join(codons))\n",
    "\n",
    "split_into_codons(seq[149:173])"
   ]
  },
  {
   "cell_type": "markdown",
   "id": "a5e36988-d06b-4a7f-8a13-44f6d6df1f32",
   "metadata": {},
   "source": [
    "If we do not inset anything, there is a frame shift. To fix the frame shift, we need the insertion to be with length of 3x+1"
   ]
  },
  {
   "cell_type": "code",
   "execution_count": 8,
   "id": "6066b6cd-b7d8-4d29-9bb9-453f6a92edd3",
   "metadata": {},
   "outputs": [
    {
     "name": "stdout",
     "output_type": "stream",
     "text": [
      "ATG AAG CTT CTC GAG AAT TCC CGG GTA CCA GAT CTG TCG ACT ACA AGG ACG ATG ACG ACA AG\n"
     ]
    }
   ],
   "source": [
    "split_into_codons(seq[111:173])"
   ]
  },
  {
   "cell_type": "markdown",
   "id": "6102b615-da85-4a37-bc70-377c9cd621fb",
   "metadata": {},
   "source": [
    "Last nucleotide of the start codon has position 113"
   ]
  },
  {
   "cell_type": "code",
   "execution_count": 9,
   "id": "ceef80ab-621e-4c86-8260-7bd1a172d48b",
   "metadata": {},
   "outputs": [
    {
     "data": {
      "text/plain": [
       "'G'"
      ]
     },
     "execution_count": 9,
     "metadata": {},
     "output_type": "execute_result"
    }
   ],
   "source": [
    "seq[113]"
   ]
  },
  {
   "cell_type": "code",
   "execution_count": 10,
   "id": "f455385d-129b-4577-b366-5b2267008a51",
   "metadata": {},
   "outputs": [
    {
     "data": {
      "text/plain": [
       "Seq('ATGAAGCTTCTCGAGAATTCCCGGGTACCAGATCTG')"
      ]
     },
     "execution_count": 10,
     "metadata": {},
     "output_type": "execute_result"
    }
   ],
   "source": [
    "seq[111:147]"
   ]
  },
  {
   "cell_type": "markdown",
   "id": "c50a7de9-f341-45e9-8b5a-e900446adfb0",
   "metadata": {},
   "source": [
    "First nucleotide of FLAG tag has position 149"
   ]
  },
  {
   "cell_type": "code",
   "execution_count": 11,
   "id": "7058f98d-afb7-484e-9702-4e10546ed6a3",
   "metadata": {},
   "outputs": [
    {
     "data": {
      "text/plain": [
       "Seq('GACTACAAGGACGATGACGACAAG')"
      ]
     },
     "execution_count": 11,
     "metadata": {},
     "output_type": "execute_result"
    }
   ],
   "source": [
    "seq[149:173]"
   ]
  },
  {
   "cell_type": "code",
   "execution_count": 12,
   "id": "9cd89f5a-578f-431d-be4f-a0759043cc8f",
   "metadata": {},
   "outputs": [
    {
     "data": {
      "text/plain": [
       "Seq('DYKDDDDK')"
      ]
     },
     "execution_count": 12,
     "metadata": {},
     "output_type": "execute_result"
    }
   ],
   "source": [
    "seq[149:173].translate()"
   ]
  },
  {
   "cell_type": "markdown",
   "id": "ee6a0c06-ca63-47e5-8998-a9aaf3eefb1b",
   "metadata": {},
   "source": [
    "To choose restriction sites we need to check, if the insertion does not containt them. \n",
    "Among restriction enzymes without sites in insertion we choose the ones which are on the biggest distance from each other \n",
    "(to reduce the number of AAs being added to expressed insertion) and leave sticky ends."
   ]
  },
  {
   "cell_type": "code",
   "execution_count": 13,
   "id": "8a31ec5e-8871-4b80-ab3a-e3386a5b0df3",
   "metadata": {},
   "outputs": [
    {
     "name": "stdout",
     "output_type": "stream",
     "text": [
      "[HindIII, EcoRI, XmaI, KpnI, SalI, XhoI, SmaI, Asp718I, BglII]\n"
     ]
    }
   ],
   "source": [
    "mcs_enzymes = RestrictionBatch(['HindIII', 'XhoI', 'EcoRI', 'XmaI', 'SmaI', 'Asp718I', 'KpnI', 'BglII', 'SalI'])\n",
    "friendly_enzymes = []\n",
    "for enzyme in mcs_enzymes:\n",
    "    if (enzyme.search(insertion) == []) & (enzyme.search(insertion.reverse_complement()) == []):\n",
    "        friendly_enzymes.append(enzyme)\n",
    "print(friendly_enzymes)"
   ]
  },
  {
   "cell_type": "code",
   "execution_count": 14,
   "id": "9d6814ef-6c5a-433f-a1cb-ee267fd118a0",
   "metadata": {},
   "outputs": [],
   "source": [
    "friendly_sticky_enzymes = [enzyme for enzyme in friendly_enzymes if not enzyme.is_blunt()]\n",
    "if len(friendly_sticky_enzymes) >= 2:\n",
    "    enzyme5 = friendly_sticky_enzymes[0]\n",
    "    enzyme3 = friendly_sticky_enzymes[-1]\n",
    "else:\n",
    "    enzyme5 = friendly_enzymes[0]\n",
    "    enzyme3 = friendly_enzymes[-1]"
   ]
  },
  {
   "cell_type": "code",
   "execution_count": 15,
   "id": "99bc1744-fdf5-4646-ac1b-7bc223e16bd0",
   "metadata": {},
   "outputs": [
    {
     "name": "stdout",
     "output_type": "stream",
     "text": [
      "[HindIII, EcoRI, XmaI, KpnI, SalI, XhoI, Asp718I, BglII]\n"
     ]
    }
   ],
   "source": [
    "print(friendly_sticky_enzymes)"
   ]
  },
  {
   "cell_type": "markdown",
   "id": "5d0f74ec-a9f6-4030-837f-80caf7f651f0",
   "metadata": {},
   "source": [
    "Now we extract sequences between start codon and insertion, and between insertion and first nucleotide of FLAG-coding sequence to make sure there's no frame shift.\n",
    "\n",
    "start2insertion should be multiple of three, and insertion2FLAG should be multiple of three plus one."
   ]
  },
  {
   "cell_type": "code",
   "execution_count": 86,
   "id": "5b0af2bb-1466-4df0-b323-0efa3308d6c8",
   "metadata": {},
   "outputs": [],
   "source": [
    "enzyme5 = EcoRI\n",
    "enzyme3 = SmaI"
   ]
  },
  {
   "cell_type": "code",
   "execution_count": 54,
   "id": "bddcad7d-2e85-4ac9-99f0-028a8a8c2c1d",
   "metadata": {},
   "outputs": [],
   "source": [
    "mcs_start_coord = 114\n",
    "FLAG_start_coord = 149\n",
    "\n",
    "def get_coord_before_nick(enzyme, seq=seq):\n",
    "    return enzyme.search(seq)[0] - 2\n",
    "\n",
    "def get_site_start_coord(enzyme, seq=seq):\n",
    "    upper_nick = enzyme.search(seq)[0] - 2\n",
    "    return upper_nick - len(enzyme.elucidate().replace(\"_\", \"\").split(\"^\")[0]) + 1\n",
    "\n",
    "def get_site_end_coord(enzyme, seq=seq):\n",
    "    upper_nick = enzyme.search(seq)[0] - 2\n",
    "    return upper_nick + len(enzyme.elucidate().replace(\"_\", \"\").split(\"^\")[1])"
   ]
  },
  {
   "cell_type": "code",
   "execution_count": 87,
   "id": "14ae7040-7ee5-438d-902c-a0688b6e343d",
   "metadata": {},
   "outputs": [
    {
     "data": {
      "text/plain": [
       "Seq('AAGCTT')"
      ]
     },
     "execution_count": 87,
     "metadata": {},
     "output_type": "execute_result"
    }
   ],
   "source": [
    "start2site = seq[mcs_start_coord:get_site_start_coord(XhoI)]\n",
    "start2site"
   ]
  },
  {
   "cell_type": "code",
   "execution_count": 88,
   "id": "3ed20785-a8b2-4c62-93f1-d925862063e0",
   "metadata": {},
   "outputs": [
    {
     "data": {
      "text/plain": [
       "Seq('AAGCTTCTCGAGAATTC')"
      ]
     },
     "execution_count": 88,
     "metadata": {},
     "output_type": "execute_result"
    }
   ],
   "source": [
    "start2insertion = seq[mcs_start_coord:get_site_end_coord(enzyme5)+1]\n",
    "start2insertion"
   ]
  },
  {
   "cell_type": "code",
   "execution_count": 113,
   "id": "b6006a51-1b48-42fe-b916-f58d557d1663",
   "metadata": {},
   "outputs": [
    {
     "data": {
      "text/plain": [
       "Seq('TC')"
      ]
     },
     "execution_count": 113,
     "metadata": {},
     "output_type": "execute_result"
    }
   ],
   "source": [
    "start2insertion[-(len(start2insertion) % 3):]"
   ]
  },
  {
   "cell_type": "code",
   "execution_count": 149,
   "id": "ebb84adc-7cdb-4f23-96bb-19c5a68460be",
   "metadata": {},
   "outputs": [
    {
     "data": {
      "text/plain": [
       "Seq('AAGCTTCTCGAGAAT')"
      ]
     },
     "execution_count": 149,
     "metadata": {},
     "output_type": "execute_result"
    }
   ],
   "source": [
    "start2insertion[:-(len(start2insertion) % 3)]"
   ]
  },
  {
   "cell_type": "code",
   "execution_count": 104,
   "id": "8ec8999f-069a-4d2c-91ce-9c4ae1a23d07",
   "metadata": {},
   "outputs": [
    {
     "data": {
      "text/plain": [
       "17"
      ]
     },
     "execution_count": 104,
     "metadata": {},
     "output_type": "execute_result"
    }
   ],
   "source": [
    "len(start2insertion)"
   ]
  },
  {
   "cell_type": "code",
   "execution_count": 89,
   "id": "b225f848-e9df-429a-9629-d0bbdba76deb",
   "metadata": {},
   "outputs": [
    {
     "data": {
      "text/plain": [
       "Seq('TACCAGATCTGTC')"
      ]
     },
     "execution_count": 89,
     "metadata": {},
     "output_type": "execute_result"
    }
   ],
   "source": [
    "site2FLAG = seq[get_site_end_coord(enzyme3)+1:FLAG_start_coord]\n",
    "site2FLAG"
   ]
  },
  {
   "cell_type": "code",
   "execution_count": 91,
   "id": "7ca56c84-357d-4f9b-b391-4dcda7bdc43b",
   "metadata": {},
   "outputs": [
    {
     "data": {
      "text/plain": [
       "19"
      ]
     },
     "execution_count": 91,
     "metadata": {},
     "output_type": "execute_result"
    }
   ],
   "source": [
    "insertion2FLAG = seq[get_site_start_coord(enzyme3):FLAG_start_coord]\n",
    "len(insertion2FLAG)"
   ]
  },
  {
   "cell_type": "code",
   "execution_count": 92,
   "id": "0aec509e-5998-4560-9e1f-358eba3f67f3",
   "metadata": {},
   "outputs": [
    {
     "data": {
      "text/plain": [
       "Seq('CCCGGGTACCAGATCTGTC')"
      ]
     },
     "execution_count": 92,
     "metadata": {},
     "output_type": "execute_result"
    }
   ],
   "source": [
    "insertion2FLAG"
   ]
  },
  {
   "cell_type": "code",
   "execution_count": 103,
   "id": "ddef9fc2-79f3-4de8-97b6-887584209dd6",
   "metadata": {},
   "outputs": [
    {
     "data": {
      "text/plain": [
       "Seq('CC')"
      ]
     },
     "execution_count": 103,
     "metadata": {},
     "output_type": "execute_result"
    }
   ],
   "source": [
    "insertion2FLAG[:len(insertion2FLAG) % 3 + 1]"
   ]
  },
  {
   "cell_type": "code",
   "execution_count": 147,
   "id": "869db151-9e09-40b8-a41c-017225a54701",
   "metadata": {},
   "outputs": [
    {
     "data": {
      "text/plain": [
       "Seq('CGGGTACCAGATCTGTC')"
      ]
     },
     "execution_count": 147,
     "metadata": {},
     "output_type": "execute_result"
    }
   ],
   "source": [
    "insertion2FLAG[len(insertion2FLAG) % 3 + 1:]"
   ]
  },
  {
   "cell_type": "markdown",
   "id": "119f5e50-fe20-44a3-982f-b7e6e03f9955",
   "metadata": {},
   "source": [
    "Since we cannot avoid adding a couple aminoacids to the expressed sequence, we can at least try to match the properties of these aminoacids with the one close to them. We will use hydrophobicity, isoelectric point and molecular weight as parameters of similarity:"
   ]
  },
  {
   "cell_type": "code",
   "execution_count": 144,
   "id": "2c9e9436-d8eb-4eae-927b-5e880ab1b646",
   "metadata": {},
   "outputs": [],
   "source": [
    "# Kyte-Doolittle hydrophobicity scale\n",
    "hydrophobicity_scale = {\n",
    "    'A': 1.8, 'R': -4.5, 'N': -3.5, 'D': -3.5, 'C': 2.5,\n",
    "    'Q': -3.5, 'E': -3.5, 'G': -0.4, 'H': -3.2, 'I': 4.5,\n",
    "    'L': 3.8, 'K': -3.9, 'M': 1.9, 'F': 2.8, 'P': -1.6,\n",
    "    'S': -0.8, 'T': -0.7, 'W': -0.9, 'Y': -1.3, 'V': 4.2\n",
    "}\n",
    "\n",
    "def get_aa_properties(aa):\n",
    "    pa = ProteinAnalysis(aa)\n",
    "    return {\n",
    "        'isoelectric_point': pa.isoelectric_point(),\n",
    "        'molecular_weight': pa.molecular_weight(),\n",
    "        'hydrophobicity': hydrophobicity_scale.get(aa, 0)  # Default to 0 if not found\n",
    "    }\n",
    "\n",
    "def generate_codons(partial_codon):\n",
    "    nucleotides = ['A', 'T', 'C', 'G']\n",
    "    if len(partial_codon) == 1:\n",
    "        return [partial_codon + n1 + n2 for n1 in nucleotides for n2 in nucleotides]\n",
    "    elif len(partial_codon) == 2:\n",
    "        return [partial_codon + n for n in nucleotides]\n",
    "    else:\n",
    "        raise ValueError(\"Partial codon must be 1 or 2 nucleotides long\")\n",
    "\n",
    "def select_codon(partial_codon, target_aa, reverse=False):\n",
    "    target_properties = get_aa_properties(target_aa)\n",
    "    best_codon = None\n",
    "    best_match = float('inf')\n",
    "    \n",
    "    for codon in generate_codons(partial_codon):\n",
    "        if reverse:\n",
    "            codon = codon[::-1]\n",
    "        aa = str(Seq(codon).translate())\n",
    "        if aa == '*':  # Skip stop codons\n",
    "            continue\n",
    "        aa_properties = get_aa_properties(aa)\n",
    "        # Calculate a weighted difference metric\n",
    "        difference = (\n",
    "            abs(aa_properties['isoelectric_point'] - target_properties['isoelectric_point']) * 0.5 +\n",
    "            abs(aa_properties['molecular_weight'] - target_properties['molecular_weight']) * 0.3 +\n",
    "            abs(aa_properties['hydrophobicity'] - target_properties['hydrophobicity']) * 0.2\n",
    "        )\n",
    "        if difference < best_match:\n",
    "            best_match = difference\n",
    "            best_codon = codon\n",
    "    print(best_codon, best_match)\n",
    "    return best_codon"
   ]
  },
  {
   "cell_type": "code",
   "execution_count": 150,
   "id": "3993b201-447e-46bc-bf7f-2d1d999ab849",
   "metadata": {},
   "outputs": [
    {
     "name": "stdout",
     "output_type": "stream",
     "text": [
      "TCA 8.790085346069333\n"
     ]
    }
   ],
   "source": [
    "if len(start2insertion)%3 != 0:\n",
    "    partial_codon = start2insertion[-(len(start2insertion) % 3):]\n",
    "    full_codon = select_codon(partial_codon,\n",
    "                insertion[:3].translate())\n",
    "    new_start2insertion = start2insertion[:-(len(start2insertion) % 3)] + full_codon"
   ]
  },
  {
   "cell_type": "code",
   "execution_count": 152,
   "id": "d015e167-abe3-4341-a4b4-e4df0a56ce19",
   "metadata": {},
   "outputs": [
    {
     "data": {
      "text/plain": [
       "18"
      ]
     },
     "execution_count": 152,
     "metadata": {},
     "output_type": "execute_result"
    }
   ],
   "source": [
    "len(new_start2insertion)"
   ]
  },
  {
   "cell_type": "code",
   "execution_count": 151,
   "id": "a51bedf4-fea0-4ce4-a639-601127dfdc8f",
   "metadata": {},
   "outputs": [
    {
     "name": "stdout",
     "output_type": "stream",
     "text": [
      "ACC 5.197854145812985\n"
     ]
    }
   ],
   "source": [
    "if len(insertion2FLAG)%3 != 0:\n",
    "    partial_codon = insertion2FLAG[:len(insertion2FLAG) % 3 + 1]\n",
    "    full_codon = select_codon(partial_codon,\n",
    "                insertion[-3:].translate(), ############################## add stop codon check later\n",
    "                reverse=True)\n",
    "    new_insertion2FLAG = full_codon + insertion2FLAG[len(insertion2FLAG) % 3 + 1:]"
   ]
  },
  {
   "cell_type": "markdown",
   "id": "a2bbfbe4-61eb-4a78-a79b-a29617a43835",
   "metadata": {},
   "source": [
    "The forward primer will consist of additional sequence for restrictase (naveska), start2insertion sequence and homology region (with 5' end of insertion). The reverse primer will consist of additional sequence for restrictase, insertion2FLAG.reverse_complement() sequence anf homology region (with 3' end of insertion)."
   ]
  },
  {
   "cell_type": "code",
   "execution_count": 158,
   "id": "9c904f65-5244-48b4-98e7-e292f5f776be",
   "metadata": {},
   "outputs": [
    {
     "name": "stdout",
     "output_type": "stream",
     "text": [
      "AAGCTTCTCGAGAATTCAAATGAGACAATAGCACACACAG\n",
      "40\n",
      "64.2\n",
      "72.2\n"
     ]
    }
   ],
   "source": [
    "fwd, rev = create(insertion, add_fwd=new_start2insertion, add_rev=new_insertion2FLAG.reverse_complement())\n",
    "print(fwd.seq)      # True\n",
    "print(len(fwd.seq))      # GGTCTCAATGAGACAATAGCACACACA; 5' to 3'\n",
    "print(fwd.tm)       # 62.4; melting temp\n",
    "print(fwd.tm_total)"
   ]
  },
  {
   "cell_type": "code",
   "execution_count": 160,
   "id": "6d493ce1-f5ec-45b0-97f8-fb62e9b7fbe1",
   "metadata": {},
   "outputs": [
    {
     "data": {
      "text/plain": [
       "63.13484067183998"
      ]
     },
     "execution_count": 160,
     "metadata": {},
     "output_type": "execute_result"
    }
   ],
   "source": [
    "from Bio.SeqUtils import MeltingTemp as mt\n",
    "mt.Tm_NN(Seq(new_start2insertion + insertion[:22]))"
   ]
  },
  {
   "cell_type": "code",
   "execution_count": 163,
   "id": "19885573-2f11-4302-94a3-00687d012dec",
   "metadata": {},
   "outputs": [
    {
     "data": {
      "text/plain": [
       "Seq('AAGCTTCTCGAGAATTCAAATGAGACAATAGCACACACAG')"
      ]
     },
     "execution_count": 163,
     "metadata": {},
     "output_type": "execute_result"
    }
   ],
   "source": [
    "Seq(new_start2insertion + insertion[:22])"
   ]
  },
  {
   "cell_type": "code",
   "execution_count": 157,
   "id": "be5dc7b0-c07e-4591-82d3-03f14e4e9e95",
   "metadata": {},
   "outputs": [
    {
     "data": {
      "text/plain": [
       "Seq('AAGCTTCTCGAGAATTCA')"
      ]
     },
     "execution_count": 157,
     "metadata": {},
     "output_type": "execute_result"
    }
   ],
   "source": [
    "new_start2insertion"
   ]
  },
  {
   "cell_type": "code",
   "execution_count": 53,
   "id": "796116f0-1ded-4a23-a098-a883e347edb7",
   "metadata": {},
   "outputs": [],
   "source": [
    "additive = {\n",
    "    'HindIII': [3, 4, 5], \n",
    "    'XhoI': [2, 3, 4, 5], \n",
    "    'EcoRI': [1, 2, 3, 4, 5],\n",
    "    'XmaI': [1, 2, 3, 4, 5], #NA\n",
    "    'SmaI': [1, 2, 3, 4, 5], \n",
    "    'Asp718I': [1, 2, 3, 4, 5], #NA\n",
    "    'KpnI': [1, 2, 3, 4, 5], \n",
    "    'BglII': [2, 3, 4, 5], \n",
    "    'SalI': [1, 2, 3, 4, 5]  \n",
    "}"
   ]
  },
  {
   "cell_type": "code",
   "execution_count": 79,
   "id": "b1a5e6b1-7a0f-4c33-b9ea-d6d25465c2b8",
   "metadata": {},
   "outputs": [
    {
     "name": "stdout",
     "output_type": "stream",
     "text": [
      "Asp718I    :  136.\n",
      "BglII      :  142.\n",
      "EcoRI      :  127.\n",
      "HindIII    :  116.\n",
      "KpnI       :  140.\n",
      "SalI       :  148.\n",
      "SmaI       :  134.\n",
      "XhoI       :  122.\n",
      "XmaI       :  132.\n",
      "\n"
     ]
    }
   ],
   "source": [
    "a = Analysis(mcs_enzymes, seq)\n",
    "a.print_that()"
   ]
  },
  {
   "cell_type": "code",
   "execution_count": 6,
   "id": "7db80ec1-0d0b-4531-9bdb-6c257d59e5f2",
   "metadata": {},
   "outputs": [
    {
     "name": "stdout",
     "output_type": "stream",
     "text": [
      "Primer(seq='GGTCTCAATGAGACAATAGCACACAC', len=26, tm=60.8, tm_total=67.0, gc=0.5, dg=-1.86, fwd=True, off_target_count=0, scoring=Scoring(penalty=5.9, penalty_tm=1.2, penalty_tm_diff=0, penalty_gc=0.0, penalty_len=1.0, penalty_dg=3.7, penalty_off_target=0.0))\n",
      "Primer(seq='GAAGACTTTCGTATGCTGACCTAG', len=24, tm=60.8, tm_total=65.8, gc=0.5, dg=0, fwd=False, off_target_count=0, scoring=Scoring(penalty=3.2, penalty_tm=1.2, penalty_tm_diff=0, penalty_gc=0.0, penalty_len=2.0, penalty_dg=0.0, penalty_off_target=0.0))\n"
     ]
    }
   ],
   "source": [
    "fwd, rev = create(\"AATGAGACAATAGCACACACAGCTAGGTCAGCATACGAAA\", add_fwd=\"GGTCTC\", add_rev=\"GAAGAC\")\n",
    "print(fwd)\n",
    "print(rev)"
   ]
  },
  {
   "cell_type": "code",
   "execution_count": 166,
   "id": "411a4173-a473-4a71-a611-3b51a72abd92",
   "metadata": {},
   "outputs": [
    {
     "data": {
      "text/plain": [
       "(Primer(seq='GGTCTCAATGAGACAATA', len=18, tm=39.4, tm_total=55.0, gc=0.4, dg=-1.86, fwd=True, off_target_count=0, scoring=Scoring(penalty=49.9, penalty_tm=22.6, penalty_tm_diff=19.6, penalty_gc=2.0, penalty_len=2.0, penalty_dg=3.7, penalty_off_target=0.0)),\n",
       " Primer(seq='TTTCGTATGCTGACCTAG', len=18, tm=59.0, tm_total=59.0, gc=0.5, dg=0, fwd=False, off_target_count=0, scoring=Scoring(penalty=24.6, penalty_tm=3.0, penalty_tm_diff=19.6, penalty_gc=0.0, penalty_len=2.0, penalty_dg=0.0, penalty_off_target=0.0)))"
      ]
     },
     "execution_count": 166,
     "metadata": {},
     "output_type": "execute_result"
    }
   ],
   "source": [
    "from primers import score\n",
    "score(\"GGTCTCAATGAGACAATA\", \"TTTCGTATGCTGACCTAG\", \"AATGAGACAATAGCACACACAGCTAGGTCAGCATACGAAATTT\")"
   ]
  }
 ],
 "metadata": {
  "kernelspec": {
   "display_name": "Python 3 (ipykernel)",
   "language": "python",
   "name": "python3"
  },
  "language_info": {
   "codemirror_mode": {
    "name": "ipython",
    "version": 3
   },
   "file_extension": ".py",
   "mimetype": "text/x-python",
   "name": "python",
   "nbconvert_exporter": "python",
   "pygments_lexer": "ipython3",
   "version": "3.11.5"
  }
 },
 "nbformat": 4,
 "nbformat_minor": 5
}
