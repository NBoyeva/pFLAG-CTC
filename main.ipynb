{
 "cells": [
  {
   "cell_type": "code",
   "execution_count": 1,
   "id": "b88f8c9e-bd12-448c-b76b-001149ca9346",
   "metadata": {},
   "outputs": [],
   "source": [
    "from Bio import SeqIO\n",
    "from Bio.Seq import Seq\n",
    "from Bio.Restriction import *\n",
    "from primers import create"
   ]
  },
  {
   "cell_type": "code",
   "execution_count": 2,
   "id": "b974f60f-b680-45a5-9a90-004eb015ec3c",
   "metadata": {},
   "outputs": [],
   "source": [
    "seq = Seq(\"CATCATAACGGTTCTGGCAAATATTCTGAAATGAGCTGTTGACAATTAATCATCGGCTCGTATAATGTGTGGAATTGTGAGCGGATAACAATTTCACACAGGAGATATCATATGAAGCTTCTCGAGAATTCCCGGGTACCAGATCTGTCGACTACAAGGACGATGACGACAAGTGAAGATCGATCTCTCGATCGAGTGAGAGAAGATTTTCAGCCTGATACAGATTAAATCAGAACGCAGAAGCGGTCTGATAAAACAGAATTTGCCTGGCGGCAGTAGCGCGGTGGTCCCACCTGACCCCATGCCGAACTCAGAAGTGAAACGCCGTAGCGCCGATGGTAGTGTGGGGTCTCCCCATGCGAGAGTAGGGAACTGCCAGGCATCAAATAAAACGAAAGGCTCAGTCGAAAGACTGGGCCTTTCGTTTTATCTGTTGTTTGTCGGTGAACGCTCTCCTGAGTAGGACAAATCCGCCGGGAGCGGATTTGAACGTTGCGAAGCAACGGCCCGGAGGGTGGCGGGCAGGACGCCCGCCATAAACTGCCAGGCATCAAATTAAGCAGAAGGCCATCCTGACGGATGGCCTTTTTGCGTTTCTACAAACTCTTTTGTTTATTTTTCTAAATACATTCAAATATGTATCCGCTCATGAGACAATAACCCTGATAAATGCTTCAATAATATTGAAAAAGGAAGAGTATGAGTATTCAACATTTCCGTGTCGCCCTTATTCCCTTTTTTGCGGCATTTTGCCTTCCTGTTTTTGCTCACCCAGAAACGCTGGTGAAAGTAAAAGATGCTGAAGATCAGTTGGGTGCACGAGTGGGTTACATCGAACTGGATCTCAACAGCGGTAAGATCCTTGAGAGTTTTCGCCCCGAAGAACGTTTTCCAATGATGAGCACTTTTAAAGTTCTGCTATGTGGCGCGGTATTATCCCGTGTTGACGCCGGGCAAGAGCAACTCGGTCGCCGCATACACTATTCTCAGAATGACTTGGTTGAGTACTCACCAGTCACAGAAAAGCATCTTACGGATGGCATGACAGTAAGAGAATTATGCAGTGCTGCCATAACCATGAGTGATAACACTGCGGCCAACTTACTTCTGACAACGATCGGAGGACCGAAGGAGCTAACCGCTTTTTTGCACAACATGGGGGATCATGTAACTCGCCTTGATCGTTGGGAACCGGAGCTGAATGAAGCCATACCAAACGACGAGCGTGACACCACGATGCCTGTAGCAATGGCAACAACGTTGCGCAAACTATTAACTGGCGAACTACTTACTCTAGCTTCCCGGCAACAATTAATAGACTGGATGGAGGCGGATAAAGTTGCAGGACCACTTCTGCGCTCGGCCCTTCCGGCTGGCTGGTTTATTGCTGATAAATCTGGAGCCGGTGAGCGTGGGTCTCGCGGTATCATTGCAGCACTGGGGCCAGATGGTAAGCCCTCCCGTATCGTAGTTATCTACACGACGGGGAGTCAGGCAACTATGGATGAACGAAATAGACAGATCGCTGAGATAGGTGCCTCACTGATTAAGCATTGGTAACTGTCAGACCAAGTTTACTCATATATACTTTAGATTGATTTAAAACTTCATTTTTAATTTAAAAGGATCTAGGTGAAGATCCTTTTTGATAATCTCATGACCAAAATCCCTTAACGTGAGTTTTCGTTCCACTGAGCGTCAGACCCCGTAGAAAAGATCAAAGGATCTTCTTGAGATCCTTTTTTTCTGCGCGTAATCTGCTGCTTGCAAACAAAAAAACCACCGCTACCAGCGGTGGTTTGTTTGCCGGATCAAGAGCTACCAACTCTTTTTCCGAAGGTAACTGGCTTCAGCAGAGCGCAGATACCAAATACTGTCCTTCTAGTGTAGCCGTAGTTAGGCCACCACTTCAAGAACTCTGTAGCACCGCCTACATACCTCGCTCTGCTAATCCTGTTACCAGTGGCTGCTGCCAGTGGCGATAAGTCGTGTCTTACCGGGTTGGACTCAAGACGATAGTTACCGGATAAGGCGCAGCGGTCGGGCTGAACGGGGGGTTCGTGCACACAGCCCAGCTTGGAGCGAACGACCTACACCGAACTGAGATACCTACAGCGTGAGCTATGAGAAAGCGCCACGCTTCCCGAAGGGAGAAAGGCGGACAGGTATCCGGTAAGCGGCAGGGTCGGAACAGGAGAGCGCACGAGGGAGCTTCCAGGGGGAAACGCCTGGTATCTTTATAGTCCTGTCGGGTTTCGCCACCTCTGACTTGAGCGTCGATTTTTGTGATGCTCGTCAGGGGGGCGGAGCCTATGGAAAAACGCCAGCAACGCGGCCTTTTTACGGTTCCTGGCCTTTTGCTGGCCTTTTGCTCACATGTTCTTTCCTGCGTTATCCCCTGATTCTGTGGATAACCGTATTACCGCCTTTGAGTGAGCTGATACCGCTCGCCGCAGCCGAACGACCGAGCGCAGCGAGTCAGTGAGCGAGGAAGCGGAAGAGCGCCTGATGCGGTATTTTCTCCTTACGCATCTGTGCGGTATTTCACACCGCATACAGATCCTGACGCGCCCTGTAGCGGCGCATTAAGCGCGGCGGGTGTGGTGGTTACGCGCAGCGTGACCGCTACACTTGCCAGCGCCCTAGCGCCCGCTCCTTTCGCTTTCTTCCCTTCCTTTCTCGCCACGTTCGCCGGCTTTCCCCGTCAAGCTCTAAATCGGGGGCTCCCTTTAGGGTTCCGATTTAGTGCTTTACGGCACCTCGACCCCAAAAAACTTGATTAGGGTGATGGTTCACGTAGTGGGCCATCGCCCTGATAGACGGTTTTTCGCCCTTTGACGTTGGAGTCCACGTTCTTTAATAGTGGACTCTTGTTCCAAACTGGAACAACACTCAACCCTATCTCGGTCTATTCTTTTGATTTATAAGGGATTTTGCCGATTTCGGCCTATTGGTTAAAAAATGAGCTGATTTAACAAAAATTTAACGCGAATTTTAACAAAATATTAACGTTTACAGGATCTGTATGGTGCACTCTCAGTACAATCTGCTCTGATGCCGCATAGTTAAGCCAGTATACACTCCGCTATCGCTACGTGACTGCCTCGACCTGCAGCAATTCCAACGCCATCAAAAATAATTCGCGTCTGGCCTTCCTGTAGCCAGCTTTCATCAACATTAAATGTGAGCGAGTAACAACCCGTCGGATTCTCCGTGGGAACAAACGGCGGATTGACCGTAATGGGATAGGTCACGTTGGTGTAGATGGGCGCATCGTAACCGTGCATCTGCCAGTTTGAGGGGACGACGACAGTATCGGCCTCAGGAAGATCGCACTCCAGCCAGCTTTCCGGCACCGCTTCTGGTGCCGGAAACCAGGCAAAGCGCCATTCGCCATTCAGGCTGCGCAACTGTTGGGAAGGGCGATCGGTGCGGGCCTCTTCGCTATTACGCCAGCTGGCGAAAGGGGGATGTGCTGCAAGGCGATTAAGTTGGGTAACGCCAGGGTTTTCCCAGTCACGACGTTGTAAAACGACGGCCAGTGAATCCGTAATCATGGTCATAGCTGTTTCCTGTGTGAAATTGTTATCCGCTCACAATTCCACACAACATACGAGCCGGAAGCATAAAGTGTAAAGCCTGGGGTGCCTAATGAGTGAGCTAACTTACATTAATTGCGTTGCGCTCACTGCCCGCTTTCCAGTCGGGAAACCTGTCGTGCCAGCTGCATTAATGAATCGGCCAACGCGCGGGGAGAGGCGGTTTGCGTATTGGGCGCCAGGGTGGTTTTTCTTTTCACCAGTGAGACGGGCAACAGCTGATTGCCCTTCACCGCCTGGCCCTGAGAGAGTTGCAGCAAGCGGTCCACGCTGGTTTGCCCCAGCAGGCGAAAATCCTGTTTGATGGTGGTTAACGGCGGGATATAACATGAGCTGTCTTCGGTATCGTCGTATCCCACTACCGAGATATCCGCACCAACGCGCAGCCCGGACTCGGTAATGGCGCGCATTGCGCCCAGCGCCATCTGATCGTTGGCAACCAGCATCGCAGTGGGAACGATGCCCTCATTCAGCATTTGCATGGTTTGTTGAAAACCGGACATGGCACTCCAGTCGCCTTCCCGTTCCGCTATCGGCTGAATTTGATTGCGAGTGAGATATTTATGCCAGCCAGCCAGACGCAGACGCGCCGAGACAGAACTTAATGGGCCCGCTAACAGCGCGATTTGCTGGTGACCCAATGCGACCAGATGCTCCACGCCCAGTCGCGTACCGTCTTCATGGGAGAAAATAATACTGTTGATGGGTGTCTGGTCAGAGACATCAAGAAATAACGCCGGAACATTAGTGCAGGCAGCTTCCACAGCAATGGCATCCTGGTCATCCAGCGGATAGTTAATGATCAGCCCACTGACGCGTTGCGCGAGAAGATTGTGCACCGCCGCTTTACAGGCTTCGACGCCGCTTCGTTCTACCATCGACACCACCACGCTGGCACCCAGTTGATCGGCGCGAGATTTAATCGCCGCGACAATTTGCGACGGCGCGTGCAGGGCCAGACTGGAGGTGGCAACGCCAATCAGCAACGACTGTTTGCCCGCCAGTTGTTGTGCCACGCGGTTGGGAATGTAATTCAGCTCCGCCATCGCCGCTTCCACTTTTTCCCGCGTTTTCGCAGAAACGTGGCTGGCCTGGTTCACCACGCGGGAAACGGTCTGATAAGAGACACCGGCATACTCTGCGACATCGTATAACGTTACTGGTTTCACATTCACCACCCTGAATTGACTCTCTTCCGGGCGCTATCATGCCATACCGCGAAAGGTTTTGCACCATTCCATGGTGTCGGAATTGCTGCAGGTCGAGGGGGTCATGGCTGCGCCCCGACACCCGCCAACACCCGCTGACGCGCCCTGACGGGCTTGTCTGCTCCCGGCATCCGCTTACAGACAAGCTGTGACCGTCTCCGGGAGCTGCATGTGTCAGAGGTTTTCACCGTCATCACCGAAACGCGCGAGGCAGGATGGCGCCCAACAGTCCCCCGGCCACGGGGCCTGCCACCATACCCACGCCGAAACAAGCGCTCATGAGCCCGAAGTGGCGAGCCCGATCTTCCCCATCGGTGATGTCGGCGATATAGGCGCCAGCAACCGCACCTGTGGCGCCGGTGATGCCGGCCACGATGCGTCCGGCGTAGAGGATCCGGGCTTATCGACTGCACGGTGCACCAATGCTTCTGGCGTCAGGCAGCCATCGGAAGCTGTGGTATGGCTGTGCAGGTCGTAAATCACTGCATAATTCGTGTCGCTCAAGGCGCACTCCCGTTCTGGATAATGTTTTTTGCGCCGA\")"
   ]
  },
  {
   "cell_type": "code",
   "execution_count": 3,
   "id": "a6995126-8859-4413-8d72-e04b3db1652c",
   "metadata": {},
   "outputs": [
    {
     "data": {
      "text/plain": [
       "1845"
      ]
     },
     "execution_count": 3,
     "metadata": {},
     "output_type": "execute_result"
    }
   ],
   "source": [
    "insertion = Seq(\"CTGCAGAAGGAAAAGGAAATCAGCGAGGACGAAGAGCGCCGCGCCGGCGACGACGTGCAGAAGCTGACCGACAAGTTCATCGGTGAGATCGAGAAGGCACTGGAAGCCAAAGAAGCGGACCTCATGGCTGTCTGAGGCCGGGCTGACGTCATGGAAAAGACCCGGAAGGATGTGTGCGTGCCACGCCACGTGCCATTATCATGGACGGTAACAATCGCTGGGCGAAGAAGCGTCTTCTGCCCGGCGTCGCGCCACAAGGCCGGTGTCGATGCCGTCAGGGCGGTGATCGAGGTCTGCGCCGAGGCAGGGGTCGAGGTCCTCACCCTGTTCGCGTTCTCCAGCGAGAACTGGCAGCGTCCGGCGGACGAAGTCAGCGCGCTGATGGAGCTGTTTCTCGTGGCCCTGCGCCGCGAGGTGCGCAAGCTCGACGAGAACGGCATCCGCCTGCGCATCATCGGCGATCGCACGCGTTTCCATCCGGAGTTGCAGGCGGCCATGCGCGAAGCGGAAGCCGCCACTGCCGGCAATACCCGTTTCCTCCTCCAGGTCGCCGCCAACTACGGCGGCCAGTGGGACATCGTCCAGGCCGCACAGCGCCTGGCGCGCGAGGTCCAGGGCGGGCACCTGGCGGCGGACGATATCTCCGCCGAGCTGCTCCAGGGCTGCCTGGTGACCGGCGACCAGCCGCTGCCCGACCTGTGCATCCGCACCGGCGGCGAGCATCGCATCAGCAATTTCCTTCTCTGGCAGCTGGCCTACGCCGAGCTGTATTTCTCCGACCTGTTCTGGCCCGACTTCAAGCACGCGCGATGCGGGCTGCCCTGGCGGATTTCTCCAAGCGCCAGCGCCGCTTCGGCAAGACCAGCGAGCAAGTCGAGGCCGAGGCCCGTCCGTCATGCTGAAACAACGGATCATCACGGCGCTGGTGCTTTTGCCCATCGCGCTGGGTGGTTTTTTCCTTCTCGAAGGGGCGTTCTTCGCCCTGTTCATCGGCGCGGTGGTGAGCCTGGGGGCCTGGGAATGGGCGCGCCTGGCCGGCTATGAACAACAGTTCGGCCGCGTTGCCTACGCGGCGACGGTCGCCGTGCTGATGGTCGCTCTCTACCATCTGCCGCAGCTTGCCGGAGCCGTGCTGCTGCTGGCGCTGGTCTGGTGGACGCTGGCCACCGTGCTGGTGCTCACCTACCCGGAAAGCGTCGGCTACTGGGGCGGCCGCTGGCGCCGCCTGGGCATGGGCCTGCTGATCCTGTTGCCGGCCTGGCAGGGGCTGGTCCTGCTCAAGCAAGTGGCCGCTGCCAATGGCCTGATCATCGCCGTGATGGTGCTGGTCTGGGGCGCGGATATCGGCGCCTACTTCTCCGGCAAGGCCTTCGGCAAGCGCAAGCTGGCGCCGCGGGTCAGCCCCGGCAAGAGCTGGGAAGGCGTTTACGGCGGCCTGGCGGCCAGCCTGGCGATCACCCTGGCGGTCGGCCTCTACCGCGGCTGGTCCCTCGGCGCGCTGCTCCTGGCCCTGCTCGGTGCGGCGCTGGTGGTGTTCGTCTCGATCGTCGGCGACCTCACCGAAAGCATGTTCAAGCGCCAGTCCGGAATCAAGGACAGCAGCAACCTGCTGCCCGGCCACGGTGGCGTGCTGGATCGCATCGACAGCCTGACGGCAGCCATCCCGGTGTTCGCGGCCCTGCTCTGGGCCGCCGGCTGGGGTGCGCCATGAGTCGACCGCAGCGGATCAGCGTGCTCGGCGCGACCGGCTCGATCGGCCTGAGCACCCTGGACGTCGTCCAGCGTCATCCCGATCGTTACGAAGCCTTCGCCCTGACTGGCTTCAGCCGCCTGGCCGAACTCGAG\")\n",
    "len(insertion)"
   ]
  },
  {
   "cell_type": "code",
   "execution_count": 4,
   "id": "15dcc074-d8a6-40b8-954d-76ace5cf7ff0",
   "metadata": {},
   "outputs": [
    {
     "data": {
      "text/plain": [
       "90"
      ]
     },
     "execution_count": 4,
     "metadata": {},
     "output_type": "execute_result"
    }
   ],
   "source": [
    "insertion = Seq(\"AATGAGACAATAGCACACACAGCTAGGTCAGCATACGAAAGGAAATCAGCGAGGACGAAGAGCGCCGCGCCGGCGACGACGTGCAGTGAC\")\n",
    "len(insertion)"
   ]
  },
  {
   "cell_type": "markdown",
   "id": "109de370-5d66-4ff1-8998-77996a36c762",
   "metadata": {},
   "source": [
    "The FLAG sequence:"
   ]
  },
  {
   "cell_type": "code",
   "execution_count": 5,
   "id": "42f67ba7-b9ed-42e8-b48b-7860e02cf19f",
   "metadata": {},
   "outputs": [
    {
     "name": "stdout",
     "output_type": "stream",
     "text": [
      "GAC TAC AAG GAC GAT GAC GAC AAG\n"
     ]
    }
   ],
   "source": [
    "def split_into_codons(seq):\n",
    "    # Split the sequence into groups of 3 nucleotides (codons)\n",
    "    codons = [str(seq[i:i+3]) for i in range(0, len(seq), 3)]\n",
    "    print(\" \".join(codons))\n",
    "\n",
    "split_into_codons(seq[149:173])"
   ]
  },
  {
   "cell_type": "markdown",
   "id": "a5e36988-d06b-4a7f-8a13-44f6d6df1f32",
   "metadata": {},
   "source": [
    "If we do not inset anything, there is a frame shift. To fix the frame shift, we need the insertion to be with length of 3x+1"
   ]
  },
  {
   "cell_type": "code",
   "execution_count": 6,
   "id": "6066b6cd-b7d8-4d29-9bb9-453f6a92edd3",
   "metadata": {},
   "outputs": [
    {
     "name": "stdout",
     "output_type": "stream",
     "text": [
      "ATG AAG CTT CTC GAG AAT TCC CGG GTA CCA GAT CTG TCG ACT ACA AGG ACG ATG ACG ACA AG\n"
     ]
    }
   ],
   "source": [
    "split_into_codons(seq[111:173])"
   ]
  },
  {
   "cell_type": "markdown",
   "id": "6102b615-da85-4a37-bc70-377c9cd621fb",
   "metadata": {},
   "source": [
    "Last nucleotide of the start codon has position 113"
   ]
  },
  {
   "cell_type": "code",
   "execution_count": 7,
   "id": "ceef80ab-621e-4c86-8260-7bd1a172d48b",
   "metadata": {},
   "outputs": [
    {
     "data": {
      "text/plain": [
       "'G'"
      ]
     },
     "execution_count": 7,
     "metadata": {},
     "output_type": "execute_result"
    }
   ],
   "source": [
    "seq[113]"
   ]
  },
  {
   "cell_type": "code",
   "execution_count": 8,
   "id": "f455385d-129b-4577-b366-5b2267008a51",
   "metadata": {},
   "outputs": [
    {
     "data": {
      "text/plain": [
       "Seq('ATGAAGCTTCTCGAGAATTCCCGGGTACCAGATCTG')"
      ]
     },
     "execution_count": 8,
     "metadata": {},
     "output_type": "execute_result"
    }
   ],
   "source": [
    "seq[111:147]"
   ]
  },
  {
   "cell_type": "markdown",
   "id": "c50a7de9-f341-45e9-8b5a-e900446adfb0",
   "metadata": {},
   "source": [
    "First nucleotide of FLAG tag has position 149"
   ]
  },
  {
   "cell_type": "code",
   "execution_count": 9,
   "id": "7058f98d-afb7-484e-9702-4e10546ed6a3",
   "metadata": {},
   "outputs": [
    {
     "data": {
      "text/plain": [
       "Seq('GACTACAAGGACGATGACGACAAG')"
      ]
     },
     "execution_count": 9,
     "metadata": {},
     "output_type": "execute_result"
    }
   ],
   "source": [
    "seq[149:173]"
   ]
  },
  {
   "cell_type": "code",
   "execution_count": 10,
   "id": "9cd89f5a-578f-431d-be4f-a0759043cc8f",
   "metadata": {},
   "outputs": [
    {
     "data": {
      "text/plain": [
       "Seq('DYKDDDDK')"
      ]
     },
     "execution_count": 10,
     "metadata": {},
     "output_type": "execute_result"
    }
   ],
   "source": [
    "seq[149:173].translate()"
   ]
  },
  {
   "cell_type": "markdown",
   "id": "ee6a0c06-ca63-47e5-8998-a9aaf3eefb1b",
   "metadata": {},
   "source": [
    "To choose restriction sites we need to check, if the insertion does not containt them. \n",
    "Among restriction enzymes without sites in insertion we choose the ones which are on the biggest distance from each other \n",
    "(to reduce the number of AAs being added to expressed insertion) and leave sticky ends."
   ]
  },
  {
   "cell_type": "code",
   "execution_count": 11,
   "id": "8a31ec5e-8871-4b80-ab3a-e3386a5b0df3",
   "metadata": {},
   "outputs": [
    {
     "name": "stdout",
     "output_type": "stream",
     "text": [
      "[SmaI, XhoI, Asp718I, BglII, HindIII, XmaI, EcoRI, KpnI, SalI]\n"
     ]
    }
   ],
   "source": [
    "mcs_enzymes = RestrictionBatch(['HindIII', 'XhoI', 'EcoRI', 'XmaI', 'SmaI', 'Asp718I', 'KpnI', 'BglII', 'SalI'])\n",
    "friendly_enzymes = []\n",
    "for enzyme in mcs_enzymes:\n",
    "    if (enzyme.search(insertion) == []) & (enzyme.search(insertion.reverse_complement()) == []):\n",
    "        friendly_enzymes.append(enzyme)\n",
    "print(friendly_enzymes)"
   ]
  },
  {
   "cell_type": "code",
   "execution_count": 12,
   "id": "9d6814ef-6c5a-433f-a1cb-ee267fd118a0",
   "metadata": {},
   "outputs": [],
   "source": [
    "friendly_sticky_enzymes = [enzyme for enzyme in friendly_enzymes if not enzyme.is_blunt()]\n",
    "if len(friendly_sticky_enzymes) >= 2:\n",
    "    enzyme5 = friendly_sticky_enzymes[0]\n",
    "    enzyme3 = friendly_sticky_enzymes[-1]\n",
    "else:\n",
    "    enzyme5 = friendly_enzymes[0]\n",
    "    enzyme3 = friendly_enzymes[-1]"
   ]
  },
  {
   "cell_type": "code",
   "execution_count": 13,
   "id": "99bc1744-fdf5-4646-ac1b-7bc223e16bd0",
   "metadata": {},
   "outputs": [
    {
     "name": "stdout",
     "output_type": "stream",
     "text": [
      "[XhoI, Asp718I, BglII, HindIII, XmaI, EcoRI, KpnI, SalI]\n"
     ]
    }
   ],
   "source": [
    "print(friendly_sticky_enzymes)"
   ]
  },
  {
   "cell_type": "markdown",
   "id": "5d0f74ec-a9f6-4030-837f-80caf7f651f0",
   "metadata": {},
   "source": [
    "Now we extract sequences between start codon and insertion, and between insertion and first nucleotide of FLAG-coding sequence to make sure there's no frame shift.\n",
    "\n",
    "start2insertion should be multiple of three, and insertion2FLAG should be multiple of three plus one."
   ]
  },
  {
   "cell_type": "code",
   "execution_count": 14,
   "id": "22cf0bb0-6aec-4589-b589-09608d173c66",
   "metadata": {
    "scrolled": true
   },
   "outputs": [],
   "source": [
    "#start2nick = enzyme5.search(seq)[0] - 2 - 113\n",
    "#nick2FLAG = 149 - enzyme3.search(seq)[0] + 1\n",
    "start2nick = seq[114:enzyme5.search(seq)[0] - 1]\n",
    "nick2FLAG = seq[enzyme3.search(seq)[0]-1:149]"
   ]
  },
  {
   "cell_type": "code",
   "execution_count": 24,
   "id": "912bfa7f-a065-4253-87b1-71d277a3853d",
   "metadata": {},
   "outputs": [
    {
     "data": {
      "text/plain": [
       "Seq('AAGCTTCTCGAG')"
      ]
     },
     "execution_count": 24,
     "metadata": {},
     "output_type": "execute_result"
    }
   ],
   "source": [
    "start2insertion = seq[114:enzyme5.search(seq)[0] - 1 + len(enzyme5.elucidate().replace(\"_\", \"\").split(\"^\")[1])]\n",
    "start2insertion"
   ]
  },
  {
   "cell_type": "code",
   "execution_count": null,
   "id": "be24cd27-0ad6-4a96-bb83-f58fa90d5903",
   "metadata": {},
   "outputs": [],
   "source": [
    "nick2FLAG = seq[enzyme3.search(seq)[0]-1:149]"
   ]
  },
  {
   "cell_type": "code",
   "execution_count": 27,
   "id": "bd993164-e777-4e4a-97b9-315361e34894",
   "metadata": {},
   "outputs": [
    {
     "data": {
      "text/plain": [
       "1"
      ]
     },
     "execution_count": 27,
     "metadata": {},
     "output_type": "execute_result"
    }
   ],
   "source": [
    "len(enzyme3.elucidate().replace(\"_\", \"\").split(\"^\")[0])"
   ]
  },
  {
   "cell_type": "code",
   "execution_count": 29,
   "id": "8a7616a5-f4cf-4ef7-ae60-2c15cc8b58e5",
   "metadata": {},
   "outputs": [
    {
     "data": {
      "text/plain": [
       "Seq('GTC')"
      ]
     },
     "execution_count": 29,
     "metadata": {},
     "output_type": "execute_result"
    }
   ],
   "source": [
    "insertion2FLAG = seq[enzyme3.search(seq)[0]-1 - len(enzyme3.elucidate().replace(\"_\", \"\").split(\"^\")[0]):149]\n",
    "insertion2FLAG"
   ]
  },
  {
   "cell_type": "code",
   "execution_count": 26,
   "id": "9461b921-8ebc-444d-80dc-a5e1e8ec7ff6",
   "metadata": {},
   "outputs": [
    {
     "data": {
      "text/plain": [
       "'G^TCGA_C'"
      ]
     },
     "execution_count": 26,
     "metadata": {},
     "output_type": "execute_result"
    }
   ],
   "source": [
    "SalI.elucidate()"
   ]
  },
  {
   "cell_type": "code",
   "execution_count": 23,
   "id": "8ef86655-1c59-4311-a30c-10554fd976b3",
   "metadata": {},
   "outputs": [
    {
     "data": {
      "text/plain": [
       "5"
      ]
     },
     "execution_count": 23,
     "metadata": {},
     "output_type": "execute_result"
    }
   ],
   "source": [
    "len(XhoI.elucidate().replace(\"_\", \"\").split(\"^\")[1])"
   ]
  },
  {
   "cell_type": "code",
   "execution_count": 18,
   "id": "97f3fd08-e12d-40b2-aede-d9b1ef11a3e8",
   "metadata": {},
   "outputs": [
    {
     "data": {
      "text/plain": [
       "Seq('CT')"
      ]
     },
     "execution_count": 18,
     "metadata": {},
     "output_type": "execute_result"
    }
   ],
   "source": [
    "insertion2FLAG[::-1]"
   ]
  },
  {
   "cell_type": "markdown",
   "id": "119f5e50-fe20-44a3-982f-b7e6e03f9955",
   "metadata": {},
   "source": [
    "Since we cannot avoid adding a couple aminoacids to the expressed sequence, we can at least try to match the properties of these aminoacids with the one close to them. We will use hydrophobicity, isoelectric point and molecular weight as parameters of similarity:"
   ]
  },
  {
   "cell_type": "code",
   "execution_count": null,
   "id": "2c9e9436-d8eb-4eae-927b-5e880ab1b646",
   "metadata": {},
   "outputs": [],
   "source": [
    "# Kyte-Doolittle hydrophobicity scale\n",
    "hydrophobicity_scale = {\n",
    "    'A': 1.8, 'R': -4.5, 'N': -3.5, 'D': -3.5, 'C': 2.5,\n",
    "    'Q': -3.5, 'E': -3.5, 'G': -0.4, 'H': -3.2, 'I': 4.5,\n",
    "    'L': 3.8, 'K': -3.9, 'M': 1.9, 'F': 2.8, 'P': -1.6,\n",
    "    'S': -0.8, 'T': -0.7, 'W': -0.9, 'Y': -1.3, 'V': 4.2\n",
    "}\n",
    "\n",
    "def get_aa_properties(aa):\n",
    "    ip = IsoelectricPoint(aa)\n",
    "    return {\n",
    "        'isoelectric_point': ip.pi(),\n",
    "        'molecular_weight': ip.mw(),\n",
    "        'hydrophobicity': hydrophobicity_scale.get(aa, 0)  # Default to 0 if not found\n",
    "    }\n",
    "\n",
    "def generate_codons(partial_codon):\n",
    "    nucleotides = ['A', 'T', 'C', 'G']\n",
    "    if len(partial_codon) == 1:\n",
    "        return [partial_codon + n1 + n2 for n1 in nucleotides for n2 in nucleotides]\n",
    "    elif len(partial_codon) == 2:\n",
    "        return [partial_codon + n for n in nucleotides]\n",
    "    else:\n",
    "        raise ValueError(\"Partial codon must be 1 or 2 nucleotides long\")\n",
    "\n",
    "def select_codon(partial_codon, target_aa):\n",
    "    target_properties = get_aa_properties(target_aa)\n",
    "    best_codon = None\n",
    "    best_match = float('inf')\n",
    "    \n",
    "    for codon in generate_codons(partial_codon):\n",
    "        aa = str(Seq(codon).translate())\n",
    "        if aa == '*':  # Skip stop codons\n",
    "            continue\n",
    "        aa_properties = get_aa_properties(aa)\n",
    "        # Calculate a weighted difference metric\n",
    "        difference = (\n",
    "            abs(aa_properties['isoelectric_point'] - target_properties['isoelectric_point']) * 0.5 +\n",
    "            abs(aa_properties['molecular_weight'] - target_properties['molecular_weight']) * 0.3 +\n",
    "            abs(aa_properties['hydrophobicity'] - target_properties['hydrophobicity']) * 0.2\n",
    "        )\n",
    "        if difference < best_match:\n",
    "            best_match = difference\n",
    "            best_codon = codon\n",
    "    \n",
    "    return best_codon, best_match"
   ]
  },
  {
   "cell_type": "code",
   "execution_count": 80,
   "id": "3993b201-447e-46bc-bf7f-2d1d999ab849",
   "metadata": {},
   "outputs": [
    {
     "data": {
      "text/plain": [
       "2"
      ]
     },
     "execution_count": 80,
     "metadata": {},
     "output_type": "execute_result"
    }
   ],
   "source": [
    "if len(start2insertion)%3 != 0:\n",
    "    select_codon(start2insertion[-(len(start2insertion)+1)%3:],\n",
    "                )\n",
    "if (len(insertion2FLAG)-1)%3 != 0:\n",
    "    select_codon(insertion2FLAG[-(len(insertion2FLAG)+1)%3:],\n",
    "                )"
   ]
  },
  {
   "cell_type": "code",
   "execution_count": 19,
   "id": "ab1a9ea7-84a5-45b2-89c6-5dad0f6e1b86",
   "metadata": {},
   "outputs": [
    {
     "data": {
      "text/plain": [
       "Seq('AGCTTC')"
      ]
     },
     "execution_count": 19,
     "metadata": {},
     "output_type": "execute_result"
    }
   ],
   "source": [
    "start2insertion[-(len(start2insertion)+1)%3:]"
   ]
  },
  {
   "cell_type": "code",
   "execution_count": 99,
   "id": "3ade4a8f-bc5f-4749-84e5-0c9b76101dd4",
   "metadata": {},
   "outputs": [
    {
     "data": {
      "text/plain": [
       "Seq('TC')"
      ]
     },
     "execution_count": 99,
     "metadata": {},
     "output_type": "execute_result"
    }
   ],
   "source": [
    "insertion2FLAG"
   ]
  },
  {
   "cell_type": "code",
   "execution_count": null,
   "id": "a256e93a-210d-4090-99ff-866503011f7d",
   "metadata": {},
   "outputs": [],
   "source": [
    "site5 = enzyme5.site()\n",
    "add_len5 = len(enzyme5.elucidate().split(\"^\")[0])\n",
    "site3 = enzyme3.site()"
   ]
  },
  {
   "cell_type": "code",
   "execution_count": 53,
   "id": "796116f0-1ded-4a23-a098-a883e347edb7",
   "metadata": {},
   "outputs": [],
   "source": [
    "additive = {\n",
    "    'HindIII': [3, 4, 5], \n",
    "    'XhoI': [2, 3, 4, 5], \n",
    "    'EcoRI': [1, 2, 3, 4, 5],\n",
    "    'XmaI': [1, 2, 3, 4, 5], #NA\n",
    "    'SmaI': [1, 2, 3, 4, 5], \n",
    "    'Asp718I': [1, 2, 3, 4, 5], #NA\n",
    "    'KpnI': [1, 2, 3, 4, 5], \n",
    "    'BglII': [2, 3, 4, 5], \n",
    "    'SalI': [1, 2, 3, 4, 5]  \n",
    "}"
   ]
  },
  {
   "cell_type": "code",
   "execution_count": 64,
   "id": "2b711b63-b607-4189-8c9e-49cb3ae99d0f",
   "metadata": {},
   "outputs": [
    {
     "data": {
      "text/plain": [
       "'CCC^_GGG'"
      ]
     },
     "execution_count": 64,
     "metadata": {},
     "output_type": "execute_result"
    }
   ],
   "source": [
    "SmaI.elucidate()"
   ]
  },
  {
   "cell_type": "code",
   "execution_count": 79,
   "id": "b1a5e6b1-7a0f-4c33-b9ea-d6d25465c2b8",
   "metadata": {},
   "outputs": [
    {
     "name": "stdout",
     "output_type": "stream",
     "text": [
      "Asp718I    :  136.\n",
      "BglII      :  142.\n",
      "EcoRI      :  127.\n",
      "HindIII    :  116.\n",
      "KpnI       :  140.\n",
      "SalI       :  148.\n",
      "SmaI       :  134.\n",
      "XhoI       :  122.\n",
      "XmaI       :  132.\n",
      "\n"
     ]
    }
   ],
   "source": [
    "a = Analysis(mcs_enzymes, seq)\n",
    "a.print_that()"
   ]
  },
  {
   "cell_type": "code",
   "execution_count": 6,
   "id": "7db80ec1-0d0b-4531-9bdb-6c257d59e5f2",
   "metadata": {},
   "outputs": [
    {
     "name": "stdout",
     "output_type": "stream",
     "text": [
      "Primer(seq='GGTCTCAATGAGACAATAGCACACAC', len=26, tm=60.8, tm_total=67.0, gc=0.5, dg=-1.86, fwd=True, off_target_count=0, scoring=Scoring(penalty=5.9, penalty_tm=1.2, penalty_tm_diff=0, penalty_gc=0.0, penalty_len=1.0, penalty_dg=3.7, penalty_off_target=0.0))\n",
      "Primer(seq='GAAGACTTTCGTATGCTGACCTAG', len=24, tm=60.8, tm_total=65.8, gc=0.5, dg=0, fwd=False, off_target_count=0, scoring=Scoring(penalty=3.2, penalty_tm=1.2, penalty_tm_diff=0, penalty_gc=0.0, penalty_len=2.0, penalty_dg=0.0, penalty_off_target=0.0))\n"
     ]
    }
   ],
   "source": [
    "fwd, rev = create(\"AATGAGACAATAGCACACACAGCTAGGTCAGCATACGAAA\", add_fwd=\"GGTCTC\", add_rev=\"GAAGAC\")\n",
    "print(fwd)\n",
    "print(rev)"
   ]
  }
 ],
 "metadata": {
  "kernelspec": {
   "display_name": "Python 3 (ipykernel)",
   "language": "python",
   "name": "python3"
  },
  "language_info": {
   "codemirror_mode": {
    "name": "ipython",
    "version": 3
   },
   "file_extension": ".py",
   "mimetype": "text/x-python",
   "name": "python",
   "nbconvert_exporter": "python",
   "pygments_lexer": "ipython3",
   "version": "3.11.5"
  }
 },
 "nbformat": 4,
 "nbformat_minor": 5
}
